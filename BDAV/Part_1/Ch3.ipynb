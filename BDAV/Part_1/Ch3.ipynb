{
 "cells": [
  {
   "cell_type": "markdown",
   "metadata": {},
   "source": [
    "# Ketan Shah, UBIT: ketansha\n",
    "# Ankit Sigroha, UBIT: ankitsig"
   ]
  },
  {
   "cell_type": "code",
   "execution_count": 1,
   "metadata": {},
   "outputs": [
    {
     "name": "stdout",
     "output_type": "stream",
     "text": [
      "Susan now lives in Washington\n",
      " and makes $105000.0\n",
      "Ellen now lives in Texas\n",
      " and makes $78750.0\n"
     ]
    }
   ],
   "source": [
    "SALARY_RAISE_FACTOR = 0.05\n",
    "STATE_CODE_MAP = {'WA': 'Washington', 'TX': 'Texas'}\n",
    "\n",
    "#defining function for updating employee records\n",
    "def update_employee_record(rec):\n",
    " old_sal = rec['salary']\n",
    " new_sal = old_sal * (1 + SALARY_RAISE_FACTOR)\n",
    "    \n",
    " rec['salary'] = new_sal\n",
    " state_code = rec['state_code']\n",
    "    \n",
    " rec['state_name'] = STATE_CODE_MAP[state_code]\n",
    "input_data = [ {'employee_name': 'Susan', 'salary': 100000.0, 'state_code': 'WA'}, {'employee_name': 'Ellen', 'salary': 75000.0, 'state_code': 'TX'},]\n",
    "\n",
    "for rec in input_data:\n",
    " #calling the function we created.\n",
    " update_employee_record(rec)\n",
    " name = rec['employee_name']\n",
    " salary = rec['salary']\n",
    " state = rec['state_name']\n",
    "\n",
    " #printing the final values\n",
    " print (name + ' now lives in ' + state)\n",
    " print (' and makes $' + str(salary))"
   ]
  },
  {
   "cell_type": "code",
   "execution_count": 2,
   "metadata": {},
   "outputs": [
    {
     "name": "stdout",
     "output_type": "stream",
     "text": [
      "625\n"
     ]
    }
   ],
   "source": [
    "x=25\n",
    "\n",
    "def sqr(x):\n",
    " \"This function just squares its input \"\n",
    " return x * x\n",
    "\n",
    "#simple function for squaring the input\n",
    "y = sqr(x)\n",
    "print(y)"
   ]
  },
  {
   "cell_type": "code",
   "execution_count": 4,
   "metadata": {},
   "outputs": [
    {
     "name": "stdout",
     "output_type": "stream",
     "text": [
      "a \n",
      "-----------------\n",
      "1\n",
      "4\n",
      "9\n",
      "16\n",
      "25\n",
      "36\n",
      "49\n",
      "64\n"
     ]
    }
   ],
   "source": [
    "my_list = [\"a \", \"b \", \"c \"]\n",
    "\n",
    "#prints first element in the array my_list\n",
    "print (my_list[0])\n",
    "\n",
    "print(\"-----------------\")\n",
    "\n",
    "# changing that element of the list\n",
    "my_list[0] = \"A \" \n",
    "\n",
    "# adding new element to the end\n",
    "my_list.append(\"d \") \n",
    "\n",
    "\n",
    "# The list can have any kind of elements\n",
    "mixed_list = [\"A \", 5.7, \"B \", [1,2,3]]\n",
    "\n",
    "#There is a special operation called a list comprehension, which lets us create\n",
    "#one list from another by applying the same operation to all of its elements (and\n",
    "#possibly filtering out some of those elements):\n",
    "original_list = [1,2,3,4,5,6,7,8]\n",
    "squares = [x*x for x in original_list]\n",
    "\n",
    "\n",
    "#printing all elements int he squares list\n",
    "for x in squares:\n",
    " print(x) "
   ]
  },
  {
   "cell_type": "code",
   "execution_count": 1,
   "metadata": {},
   "outputs": [
    {
     "name": "stdout",
     "output_type": "stream",
     "text": [
      "60\n"
     ]
    },
    {
     "name": "stderr",
     "output_type": "stream",
     "text": [
      "/home/ketan/anaconda3/lib/python3.5/site-packages/ipykernel_launcher.py:34: DeprecationWarning: \n",
      ".ix is deprecated. Please use\n",
      ".loc for label based indexing or\n",
      ".iloc for positional indexing\n",
      "\n",
      "See the documentation here:\n",
      "http://pandas.pydata.org/pandas-docs/stable/indexing.html#ix-indexer-is-deprecated\n"
     ]
    }
   ],
   "source": [
    "import pandas as pd\n",
    "# Making data frame from a dictionary\n",
    "# that maps column names to their values\n",
    "df = pd.DataFrame({\n",
    "\"name\": [\"Bob\", \"Alex\", \"Janice\"],\n",
    "\"age\": [60, 25, 33]\n",
    "})\n",
    "# Reading a DataFrame from a file\n",
    "#other_df = pd.read_csv(“myfile.csv”)\n",
    "# Making new columns from old ones\n",
    "# is really easy\n",
    "df[\"age_plus_one\"] = df[\"age\"] + 1\n",
    "df[\"age_times_two\"] = 2 * df[\"age\"]\n",
    "df[\"age_squared\"] = df[\"age\"] * df[\"age\"]\n",
    "df[\"over_30\"] = (df[\"age\"] > 30) # this col is bools\n",
    "# The columns have various built-in aggregate functions\n",
    "total_age = df[\"age\"].sum()\n",
    "median_age = df[\"age\"].quantile(0.5)\n",
    "# You can select several rows of the DataFrame\n",
    "# and make a new DataFrame out of them\n",
    "df_below50 = df[df[\"age\"] < 50]\n",
    "# Apply a custom function to a column\n",
    "df[\"age_squared\"] = df[\"age\"].apply(lambda x: x*x)\n",
    "df = pd.DataFrame({\n",
    "\"name\": [\"Bob\", \"Alex\", \"Jane\"],\n",
    "\"age\": [60, 25, 33]\n",
    "})\n",
    "#print (df.index) # prints 0‐2, the line numbers\n",
    "# Create a DataFrame containing the same data,\n",
    "# but where name is the index\n",
    "df_w_name_as_ind = df.set_index(\"name\")\n",
    "#print (df_w_name_as_ind.index) # prints their names\n",
    "# Get the row for Bob\n",
    "bobs_row = df_w_name_as_ind.ix[\"Bob\"]\n",
    "print (bobs_row[\"age\"]) # prints 60"
   ]
  },
  {
   "cell_type": "markdown",
   "metadata": {},
   "source": [
    "# "
   ]
  },
  {
   "cell_type": "code",
   "execution_count": 45,
   "metadata": {},
   "outputs": [
    {
     "name": "stdout",
     "output_type": "stream",
     "text": [
      "        age  height\n",
      "name               \n",
      "Tom      60     6.2\n",
      "Tyrell   25     4.0\n",
      "Claire   33     5.5\n"
     ]
    }
   ],
   "source": [
    "df_w_age = pd.DataFrame({\"name\": [\"Tom\", \"Tyrell\", \"Claire\"],\"age\": [60, 25, 33]})\n",
    "df_w_height = pd.DataFrame({\"name\": [\"Tom\", \"Tyrell\", \"Claire\"],\"height\": [6.2, 4.0, 5.5]})\n",
    "        \n",
    "joined = df_w_age.set_index(\"name\").join(\n",
    " df_w_height.set_index(\"name\"))\n",
    "\n",
    "print(joined)"
   ]
  },
  {
   "cell_type": "markdown",
   "metadata": {},
   "source": []
  },
  {
   "cell_type": "code",
   "execution_count": 53,
   "metadata": {},
   "outputs": [
    {
     "name": "stdout",
     "output_type": "stream",
     "text": [
      "         age  height\n",
      "gender              \n",
      "F       33.0     5.5\n",
      "M       42.5     5.1\n",
      "        mean_height    name  oldest\n",
      "gender                             \n",
      "F               5.5  Claire      33\n",
      "M               5.1  Tyrell      60\n"
     ]
    }
   ],
   "source": [
    "df = pd.DataFrame({\"name\": [\"Tom\", \"Tyrell\", \"Claire\"],\"age\": [60, 25, 33],\"height\": [6.2, 4.0, 5.5],\"gender\": [\"M\", \"M\", \"F\"]})\n",
    "    \n",
    "print (df.groupby(\"gender\").mean())\n",
    "\n",
    "medians = df.groupby(\"gender\").quantile(0.5)\n",
    "\n",
    "def agg(ddf):\n",
    "     return pd.Series({\"name\": max(ddf[\"name\"]),\"oldest\": max(ddf[\"age\"]),\"mean_height\": ddf[\"height\"].mean()})\n",
    "    \n",
    "print (df.groupby(\"gender\").apply(agg))"
   ]
  }
 ],
 "metadata": {
  "kernelspec": {
   "display_name": "Python 3",
   "language": "python",
   "name": "python3"
  },
  "language_info": {
   "codemirror_mode": {
    "name": "ipython",
    "version": 3
   },
   "file_extension": ".py",
   "mimetype": "text/x-python",
   "name": "python",
   "nbconvert_exporter": "python",
   "pygments_lexer": "ipython3",
   "version": "3.5.4"
  }
 },
 "nbformat": 4,
 "nbformat_minor": 2
}
